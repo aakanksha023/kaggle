{
 "cells": [
  {
   "cell_type": "code",
   "execution_count": 1,
   "metadata": {
    "collapsed": true
   },
   "outputs": [],
   "source": [
    "import pandas as pd\n",
    "import numpy as np\n",
    "import matplotlib.pyplot as plt\n",
    "%matplotlib inline\n",
    "import sklearn\n",
    "from sklearn import linear_model"
   ]
  },
  {
   "cell_type": "code",
   "execution_count": 2,
   "metadata": {
    "collapsed": true
   },
   "outputs": [],
   "source": [
    "def count_nan(input_df):\n",
    "    x = (len(input_df) - input_df.count())/len(input_df)*100\n",
    "    return x.sort_values()"
   ]
  },
  {
   "cell_type": "code",
   "execution_count": 3,
   "metadata": {
    "collapsed": true
   },
   "outputs": [],
   "source": [
    "#  Functions assisting in creation and visualisation of histogram \n",
    "# def hist_func(input_variable):\n",
    "#     return int(input_variable/100)*100\n",
    "\n",
    "# def clip_func(ip_variable, clip_value):\n",
    "#     if ip_variable > clip_value:\n",
    "#         ip_variable = clip_value\n",
    "#     return ip_variable"
   ]
  },
  {
   "cell_type": "code",
   "execution_count": 4,
   "metadata": {
    "collapsed": false
   },
   "outputs": [],
   "source": [
    "prop = pd.read_csv(\"properties_2016.csv\",low_memory=False)"
   ]
  },
  {
   "cell_type": "code",
   "execution_count": 5,
   "metadata": {
    "collapsed": true
   },
   "outputs": [],
   "source": [
    "#count_nan(prop)"
   ]
  },
  {
   "cell_type": "code",
   "execution_count": 6,
   "metadata": {
    "collapsed": true
   },
   "outputs": [],
   "source": [
    "## Return a dataframe with all the relevant columns\n",
    "def process_dataframe(ip_dataframe):\n",
    "\n",
    "    ## List of columns for mean_imputation\n",
    "    mean_impute_columns = ['taxamount','calculatedfinishedsquarefeet',\n",
    "                           'fullbathcnt','calculatedbathnbr','finishedsquarefeet12',\n",
    "                          'buildingqualitytypeid','numberofstories','poolcnt','pooltypeid7',\n",
    "                          'threequarterbathnbr','fireplacecnt','roomcnt','bedroomcnt','latitude',\n",
    "                          'longitude','rawcensustractandblock']\n",
    "    median_impute_columns = ['landtaxvaluedollarcnt', 'structuretaxvaluedollarcnt',\n",
    "                             'taxvaluedollarcnt','lotsizesquarefeet','unitcnt','garagetotalsqft',\n",
    "                            'garagecarcnt','regionidcounty','fips','bathroomcnt']\n",
    "    mode_impute_columns = ['propertylandusetypeid','airconditioningtypeid',\n",
    "                           'regionidzip','censustractandblock','yearbuilt','regionidcity',\n",
    "                          'heatingorsystemtypeid','regionidneighborhood']\n",
    "    \n",
    "    ## Doing the imputation\n",
    "    for col in median_impute_columns:\n",
    "        median_for_this_col = ip_dataframe[col].median() \n",
    "        ip_dataframe[col].fillna(median_for_this_col, inplace = True)\n",
    "    \n",
    "    for col in mode_impute_columns:\n",
    "        mode_for_this_col = ip_dataframe[col].mode()[0] ## Very important ## Took me 20 mins to debug\n",
    "        ip_dataframe[col] = ip_dataframe[col].fillna(mode_for_this_col)\n",
    "    \n",
    "    for col in mean_impute_columns:\n",
    "        mean_for_this_col = ip_dataframe[col].mean() \n",
    "        ip_dataframe[col].fillna(mean_for_this_col, inplace = True) \n",
    "\n",
    "    \n",
    "    ## Columns to be used\n",
    "    columns_to_be_used = median_impute_columns + mode_impute_columns + mean_impute_columns\n",
    "    \n",
    "    df_to_be_returned = ip_dataframe[columns_to_be_used]\n",
    "    \n",
    "    assert(count_nan(df_to_be_returned).sum() == 0)\n",
    "    return df_to_be_returned"
   ]
  },
  {
   "cell_type": "code",
   "execution_count": 7,
   "metadata": {
    "collapsed": false
   },
   "outputs": [
    {
     "name": "stdout",
     "output_type": "stream",
     "text": [
      "           parcelid      logerror  transaction_month\n",
      "count  9.027500e+04  90275.000000       90275.000000\n",
      "mean   1.298466e+07      0.011457           5.849848\n",
      "std    2.504510e+06      0.161079           2.812690\n",
      "min    1.071174e+07     -4.605000           1.000000\n",
      "25%    1.155950e+07     -0.025300           4.000000\n",
      "50%    1.254734e+07      0.006000           6.000000\n",
      "75%    1.422755e+07      0.039200           8.000000\n",
      "max    1.629608e+08      4.737000          12.000000\n",
      "   parcelid  logerror transactiondate  transaction_month\n",
      "0  11016594    0.0276      2016-01-01                  1\n",
      "1  14366692   -0.1684      2016-01-01                  1\n",
      "2  12098116   -0.0040      2016-01-01                  1\n",
      "3  12643413    0.0218      2016-01-02                  1\n",
      "4  14432541   -0.0050      2016-01-02                  1\n",
      "90275\n",
      "90150\n"
     ]
    }
   ],
   "source": [
    "train_df = pd.read_csv('train_2016_v2.csv',parse_dates = ['transactiondate'])\n",
    "#  Extracting the Transaction month out\n",
    "\n",
    "train_df['transaction_month'] = train_df['transactiondate'].dt.month\n",
    "print(train_df.describe())\n",
    "print(train_df.head())\n",
    "\n",
    "print(len(train_df))\n",
    "print(train_df['parcelid'].nunique())\n",
    "\n",
    "# Checking whether duplicate parcelids have different log error or not\n",
    "# train_df[train_df['parcelid'].duplicated(keep=False)]\n"
   ]
  },
  {
   "cell_type": "code",
   "execution_count": 8,
   "metadata": {
    "collapsed": false
   },
   "outputs": [],
   "source": [
    "# Left Join on train_df ## SLOW\n",
    "raw_train_df = train_df.merge(prop, how='left', on = 'parcelid')"
   ]
  },
  {
   "cell_type": "code",
   "execution_count": 9,
   "metadata": {
    "collapsed": true
   },
   "outputs": [],
   "source": [
    "train_Y = raw_train_df['logerror'] \n",
    "raw_train_df.drop(labels= ['logerror', 'transactiondate', 'transaction_month'], axis = 1, inplace=True)"
   ]
  },
  {
   "cell_type": "code",
   "execution_count": 10,
   "metadata": {
    "collapsed": false
   },
   "outputs": [
    {
     "data": {
      "text/plain": [
       "count    90275.000000\n",
       "mean         0.011457\n",
       "std          0.161079\n",
       "min         -4.605000\n",
       "25%         -0.025300\n",
       "50%          0.006000\n",
       "75%          0.039200\n",
       "max          4.737000\n",
       "Name: logerror, dtype: float64"
      ]
     },
     "execution_count": 10,
     "metadata": {},
     "output_type": "execute_result"
    }
   ],
   "source": [
    "train_Y.describe()"
   ]
  },
  {
   "cell_type": "code",
   "execution_count": 11,
   "metadata": {
    "collapsed": false
   },
   "outputs": [
    {
     "data": {
      "text/html": [
       "<div>\n",
       "<table border=\"1\" class=\"dataframe\">\n",
       "  <thead>\n",
       "    <tr style=\"text-align: right;\">\n",
       "      <th></th>\n",
       "      <th>parcelid</th>\n",
       "      <th>airconditioningtypeid</th>\n",
       "      <th>architecturalstyletypeid</th>\n",
       "      <th>basementsqft</th>\n",
       "      <th>bathroomcnt</th>\n",
       "      <th>bedroomcnt</th>\n",
       "      <th>buildingclasstypeid</th>\n",
       "      <th>buildingqualitytypeid</th>\n",
       "      <th>calculatedbathnbr</th>\n",
       "      <th>decktypeid</th>\n",
       "      <th>...</th>\n",
       "      <th>numberofstories</th>\n",
       "      <th>fireplaceflag</th>\n",
       "      <th>structuretaxvaluedollarcnt</th>\n",
       "      <th>taxvaluedollarcnt</th>\n",
       "      <th>assessmentyear</th>\n",
       "      <th>landtaxvaluedollarcnt</th>\n",
       "      <th>taxamount</th>\n",
       "      <th>taxdelinquencyflag</th>\n",
       "      <th>taxdelinquencyyear</th>\n",
       "      <th>censustractandblock</th>\n",
       "    </tr>\n",
       "  </thead>\n",
       "  <tbody>\n",
       "    <tr>\n",
       "      <th>0</th>\n",
       "      <td>11016594</td>\n",
       "      <td>1.0</td>\n",
       "      <td>NaN</td>\n",
       "      <td>NaN</td>\n",
       "      <td>2.0</td>\n",
       "      <td>3.0</td>\n",
       "      <td>NaN</td>\n",
       "      <td>4.0</td>\n",
       "      <td>2.0</td>\n",
       "      <td>NaN</td>\n",
       "      <td>...</td>\n",
       "      <td>NaN</td>\n",
       "      <td>NaN</td>\n",
       "      <td>122754.0</td>\n",
       "      <td>360170.0</td>\n",
       "      <td>2015.0</td>\n",
       "      <td>237416.0</td>\n",
       "      <td>6735.88</td>\n",
       "      <td>NaN</td>\n",
       "      <td>NaN</td>\n",
       "      <td>6.037107e+13</td>\n",
       "    </tr>\n",
       "    <tr>\n",
       "      <th>1</th>\n",
       "      <td>14366692</td>\n",
       "      <td>NaN</td>\n",
       "      <td>NaN</td>\n",
       "      <td>NaN</td>\n",
       "      <td>3.5</td>\n",
       "      <td>4.0</td>\n",
       "      <td>NaN</td>\n",
       "      <td>NaN</td>\n",
       "      <td>3.5</td>\n",
       "      <td>NaN</td>\n",
       "      <td>...</td>\n",
       "      <td>NaN</td>\n",
       "      <td>NaN</td>\n",
       "      <td>346458.0</td>\n",
       "      <td>585529.0</td>\n",
       "      <td>2015.0</td>\n",
       "      <td>239071.0</td>\n",
       "      <td>10153.02</td>\n",
       "      <td>NaN</td>\n",
       "      <td>NaN</td>\n",
       "      <td>NaN</td>\n",
       "    </tr>\n",
       "    <tr>\n",
       "      <th>2</th>\n",
       "      <td>12098116</td>\n",
       "      <td>1.0</td>\n",
       "      <td>NaN</td>\n",
       "      <td>NaN</td>\n",
       "      <td>3.0</td>\n",
       "      <td>2.0</td>\n",
       "      <td>NaN</td>\n",
       "      <td>4.0</td>\n",
       "      <td>3.0</td>\n",
       "      <td>NaN</td>\n",
       "      <td>...</td>\n",
       "      <td>NaN</td>\n",
       "      <td>NaN</td>\n",
       "      <td>61994.0</td>\n",
       "      <td>119906.0</td>\n",
       "      <td>2015.0</td>\n",
       "      <td>57912.0</td>\n",
       "      <td>11484.48</td>\n",
       "      <td>NaN</td>\n",
       "      <td>NaN</td>\n",
       "      <td>6.037464e+13</td>\n",
       "    </tr>\n",
       "    <tr>\n",
       "      <th>3</th>\n",
       "      <td>12643413</td>\n",
       "      <td>1.0</td>\n",
       "      <td>NaN</td>\n",
       "      <td>NaN</td>\n",
       "      <td>2.0</td>\n",
       "      <td>2.0</td>\n",
       "      <td>NaN</td>\n",
       "      <td>4.0</td>\n",
       "      <td>2.0</td>\n",
       "      <td>NaN</td>\n",
       "      <td>...</td>\n",
       "      <td>NaN</td>\n",
       "      <td>NaN</td>\n",
       "      <td>171518.0</td>\n",
       "      <td>244880.0</td>\n",
       "      <td>2015.0</td>\n",
       "      <td>73362.0</td>\n",
       "      <td>3048.74</td>\n",
       "      <td>NaN</td>\n",
       "      <td>NaN</td>\n",
       "      <td>6.037296e+13</td>\n",
       "    </tr>\n",
       "    <tr>\n",
       "      <th>4</th>\n",
       "      <td>14432541</td>\n",
       "      <td>NaN</td>\n",
       "      <td>NaN</td>\n",
       "      <td>NaN</td>\n",
       "      <td>2.5</td>\n",
       "      <td>4.0</td>\n",
       "      <td>NaN</td>\n",
       "      <td>NaN</td>\n",
       "      <td>2.5</td>\n",
       "      <td>NaN</td>\n",
       "      <td>...</td>\n",
       "      <td>2.0</td>\n",
       "      <td>NaN</td>\n",
       "      <td>169574.0</td>\n",
       "      <td>434551.0</td>\n",
       "      <td>2015.0</td>\n",
       "      <td>264977.0</td>\n",
       "      <td>5488.96</td>\n",
       "      <td>NaN</td>\n",
       "      <td>NaN</td>\n",
       "      <td>6.059042e+13</td>\n",
       "    </tr>\n",
       "  </tbody>\n",
       "</table>\n",
       "<p>5 rows × 58 columns</p>\n",
       "</div>"
      ],
      "text/plain": [
       "   parcelid  airconditioningtypeid  architecturalstyletypeid  basementsqft  \\\n",
       "0  11016594                    1.0                       NaN           NaN   \n",
       "1  14366692                    NaN                       NaN           NaN   \n",
       "2  12098116                    1.0                       NaN           NaN   \n",
       "3  12643413                    1.0                       NaN           NaN   \n",
       "4  14432541                    NaN                       NaN           NaN   \n",
       "\n",
       "   bathroomcnt  bedroomcnt  buildingclasstypeid  buildingqualitytypeid  \\\n",
       "0          2.0         3.0                  NaN                    4.0   \n",
       "1          3.5         4.0                  NaN                    NaN   \n",
       "2          3.0         2.0                  NaN                    4.0   \n",
       "3          2.0         2.0                  NaN                    4.0   \n",
       "4          2.5         4.0                  NaN                    NaN   \n",
       "\n",
       "   calculatedbathnbr  decktypeid         ...           numberofstories  \\\n",
       "0                2.0         NaN         ...                       NaN   \n",
       "1                3.5         NaN         ...                       NaN   \n",
       "2                3.0         NaN         ...                       NaN   \n",
       "3                2.0         NaN         ...                       NaN   \n",
       "4                2.5         NaN         ...                       2.0   \n",
       "\n",
       "   fireplaceflag  structuretaxvaluedollarcnt  taxvaluedollarcnt  \\\n",
       "0            NaN                    122754.0           360170.0   \n",
       "1            NaN                    346458.0           585529.0   \n",
       "2            NaN                     61994.0           119906.0   \n",
       "3            NaN                    171518.0           244880.0   \n",
       "4            NaN                    169574.0           434551.0   \n",
       "\n",
       "   assessmentyear  landtaxvaluedollarcnt  taxamount  taxdelinquencyflag  \\\n",
       "0          2015.0               237416.0    6735.88                 NaN   \n",
       "1          2015.0               239071.0   10153.02                 NaN   \n",
       "2          2015.0                57912.0   11484.48                 NaN   \n",
       "3          2015.0                73362.0    3048.74                 NaN   \n",
       "4          2015.0               264977.0    5488.96                 NaN   \n",
       "\n",
       "   taxdelinquencyyear  censustractandblock  \n",
       "0                 NaN         6.037107e+13  \n",
       "1                 NaN                  NaN  \n",
       "2                 NaN         6.037464e+13  \n",
       "3                 NaN         6.037296e+13  \n",
       "4                 NaN         6.059042e+13  \n",
       "\n",
       "[5 rows x 58 columns]"
      ]
     },
     "execution_count": 11,
     "metadata": {},
     "output_type": "execute_result"
    }
   ],
   "source": [
    "raw_train_df.head()"
   ]
  },
  {
   "cell_type": "code",
   "execution_count": 12,
   "metadata": {
    "collapsed": false
   },
   "outputs": [],
   "source": [
    "assert(len(raw_train_df) == len(train_df))"
   ]
  },
  {
   "cell_type": "code",
   "execution_count": 13,
   "metadata": {
    "collapsed": false
   },
   "outputs": [
    {
     "data": {
      "text/html": [
       "<div>\n",
       "<table border=\"1\" class=\"dataframe\">\n",
       "  <thead>\n",
       "    <tr style=\"text-align: right;\">\n",
       "      <th></th>\n",
       "      <th>column_type</th>\n",
       "      <th>column_name</th>\n",
       "    </tr>\n",
       "  </thead>\n",
       "  <tbody>\n",
       "    <tr>\n",
       "      <th>0</th>\n",
       "      <td>int64</td>\n",
       "      <td>1</td>\n",
       "    </tr>\n",
       "    <tr>\n",
       "      <th>1</th>\n",
       "      <td>float64</td>\n",
       "      <td>52</td>\n",
       "    </tr>\n",
       "    <tr>\n",
       "      <th>2</th>\n",
       "      <td>object</td>\n",
       "      <td>5</td>\n",
       "    </tr>\n",
       "  </tbody>\n",
       "</table>\n",
       "</div>"
      ],
      "text/plain": [
       "  column_type  column_name\n",
       "0       int64            1\n",
       "1     float64           52\n",
       "2      object            5"
      ]
     },
     "execution_count": 13,
     "metadata": {},
     "output_type": "execute_result"
    }
   ],
   "source": [
    "# Finding the different types of dtypes\n",
    "type_df = raw_train_df.dtypes.reset_index()\n",
    "type_df.columns = ['column_name','column_type']\n",
    "type_df.groupby('column_type').aggregate('count').reset_index()\n"
   ]
  },
  {
   "cell_type": "code",
   "execution_count": 14,
   "metadata": {
    "collapsed": false
   },
   "outputs": [],
   "source": [
    "test_data = pd.read_csv('sample_submission.csv')\n",
    "test_data = test_data.rename(columns = {'ParcelId' : 'parcelid'})\n",
    "\n",
    "# Left Join on test_data to import data from properties\n",
    "raw_test_df = test_data.merge(prop,how='left',on = 'parcelid')\n",
    "raw_test_df = raw_test_df.drop(['201610', '201611', '201612', '201710', '201711', '201712'],axis = 1)\n"
   ]
  },
  {
   "cell_type": "code",
   "execution_count": 15,
   "metadata": {
    "collapsed": false
   },
   "outputs": [],
   "source": [
    "assert((raw_train_df.columns == raw_test_df.columns).all())"
   ]
  },
  {
   "cell_type": "code",
   "execution_count": 16,
   "metadata": {
    "collapsed": false
   },
   "outputs": [
    {
     "name": "stderr",
     "output_type": "stream",
     "text": [
      "/usr/local/lib/python3.5/site-packages/scipy/linalg/basic.py:884: RuntimeWarning: internal gelsd driver lwork query error, required iwork dimension not returned. This is likely the result of LAPACK bug 0038, fixed in LAPACK 3.2.2 (released July 21, 2010). Falling back to 'gelss' driver.\n",
      "  warnings.warn(mesg, RuntimeWarning)\n"
     ]
    },
    {
     "name": "stdout",
     "output_type": "stream",
     "text": [
      "0.00523792533355\n",
      "[ -4.78124731e-07  -4.69087887e-07   5.04688496e-07   6.24043751e-09\n",
      "  -1.33441127e-03  -1.37554775e-05   2.02710926e-03   8.06349794e-06\n",
      "   5.19903354e-03  -1.15501194e-02   2.71030603e-04   1.82023070e-04\n",
      "  -3.46190534e-07   4.24677797e-14   3.81622915e-05  -3.61275044e-09\n",
      "  -6.65470283e-04  -3.19731836e-09  -3.21552638e-06   4.49392083e-06\n",
      "   2.91059703e-03   6.79393091e-03   6.91058881e-06   3.80601813e-04\n",
      "  -2.58188886e-03  -1.84874250e-13  -5.07858208e-14   2.95449214e-02\n",
      "   1.56803324e-03   3.29091004e-04   1.00320897e-03  -3.64313614e-09\n",
      "   5.82310514e-09  -5.51336274e-07]\n",
      "Index(['landtaxvaluedollarcnt', 'structuretaxvaluedollarcnt',\n",
      "       'taxvaluedollarcnt', 'lotsizesquarefeet', 'unitcnt', 'garagetotalsqft',\n",
      "       'garagecarcnt', 'regionidcounty', 'fips', 'bathroomcnt',\n",
      "       'propertylandusetypeid', 'airconditioningtypeid', 'regionidzip',\n",
      "       'censustractandblock', 'yearbuilt', 'regionidcity',\n",
      "       'heatingorsystemtypeid', 'regionidneighborhood', 'taxamount',\n",
      "       'calculatedfinishedsquarefeet', 'fullbathcnt', 'calculatedbathnbr',\n",
      "       'finishedsquarefeet12', 'buildingqualitytypeid', 'numberofstories',\n",
      "       'poolcnt', 'pooltypeid7', 'threequarterbathnbr', 'fireplacecnt',\n",
      "       'roomcnt', 'bedroomcnt', 'latitude', 'longitude',\n",
      "       'rawcensustractandblock'],\n",
      "      dtype='object')\n",
      "TRAIN MAE 0.0684544539566\n",
      "TRAIN MSE 0.0258102000339\n"
     ]
    }
   ],
   "source": [
    "final_train_df = process_dataframe(raw_train_df)\n",
    "final_test_df = process_dataframe(raw_test_df)\n",
    "\n",
    "from sklearn.linear_model import LinearRegression\n",
    "# Creating linear regression object lm\n",
    "lm = LinearRegression(normalize=True)\n",
    "\n",
    "lm.fit(final_train_df, train_Y)\n",
    "\n",
    "print (lm.score(final_train_df, train_Y))\n",
    "\n",
    "print (lm.coef_)\n",
    "\n",
    "print (final_train_df.columns)\n",
    "\n",
    "my_prediction = lm.predict(final_train_df)\n",
    "\n",
    "# We want mean absoulte error\n",
    "print ('TRAIN MAE', np.mean(np.abs(my_prediction - train_Y)))\n",
    "print ('TRAIN MSE', np.mean((my_prediction - train_Y)**2))"
   ]
  },
  {
   "cell_type": "code",
   "execution_count": 17,
   "metadata": {
    "collapsed": false
   },
   "outputs": [
    {
     "data": {
      "text/plain": [
       "count    90275.000000\n",
       "mean         0.011457\n",
       "std          0.161079\n",
       "min         -4.605000\n",
       "25%         -0.025300\n",
       "50%          0.006000\n",
       "75%          0.039200\n",
       "max          4.737000\n",
       "Name: logerror, dtype: float64"
      ]
     },
     "execution_count": 17,
     "metadata": {},
     "output_type": "execute_result"
    }
   ],
   "source": [
    "train_Y.describe()"
   ]
  },
  {
   "cell_type": "code",
   "execution_count": 18,
   "metadata": {
    "collapsed": false
   },
   "outputs": [
    {
     "name": "stdout",
     "output_type": "stream",
     "text": [
      "/bin/sh: line 0: fg: no job control\r\n"
     ]
    }
   ],
   "source": [
    "!%cat sample_submission.csv"
   ]
  },
  {
   "cell_type": "code",
   "execution_count": 19,
   "metadata": {
    "collapsed": false
   },
   "outputs": [
    {
     "data": {
      "text/plain": [
       "0.06844671392965937"
      ]
     },
     "execution_count": 19,
     "metadata": {},
     "output_type": "execute_result"
    }
   ],
   "source": [
    "np.abs(train_Y).mean()"
   ]
  },
  {
   "cell_type": "code",
   "execution_count": 20,
   "metadata": {
    "collapsed": false
   },
   "outputs": [
    {
     "data": {
      "text/plain": [
       "0.026077371669343673"
      ]
     },
     "execution_count": 20,
     "metadata": {},
     "output_type": "execute_result"
    }
   ],
   "source": [
    "(train_Y**2).mean()"
   ]
  },
  {
   "cell_type": "code",
   "execution_count": 21,
   "metadata": {
    "collapsed": false
   },
   "outputs": [
    {
     "data": {
      "text/html": [
       "<div>\n",
       "<table border=\"1\" class=\"dataframe\">\n",
       "  <thead>\n",
       "    <tr style=\"text-align: right;\">\n",
       "      <th></th>\n",
       "      <th>parcelid</th>\n",
       "      <th>airconditioningtypeid</th>\n",
       "      <th>architecturalstyletypeid</th>\n",
       "      <th>basementsqft</th>\n",
       "      <th>bathroomcnt</th>\n",
       "      <th>bedroomcnt</th>\n",
       "      <th>buildingclasstypeid</th>\n",
       "      <th>buildingqualitytypeid</th>\n",
       "      <th>calculatedbathnbr</th>\n",
       "      <th>decktypeid</th>\n",
       "      <th>...</th>\n",
       "      <th>yardbuildingsqft26</th>\n",
       "      <th>yearbuilt</th>\n",
       "      <th>numberofstories</th>\n",
       "      <th>structuretaxvaluedollarcnt</th>\n",
       "      <th>taxvaluedollarcnt</th>\n",
       "      <th>assessmentyear</th>\n",
       "      <th>landtaxvaluedollarcnt</th>\n",
       "      <th>taxamount</th>\n",
       "      <th>taxdelinquencyyear</th>\n",
       "      <th>censustractandblock</th>\n",
       "    </tr>\n",
       "  </thead>\n",
       "  <tbody>\n",
       "    <tr>\n",
       "      <th>count</th>\n",
       "      <td>9.027500e+04</td>\n",
       "      <td>90275.000000</td>\n",
       "      <td>261.000000</td>\n",
       "      <td>43.000000</td>\n",
       "      <td>90275.000000</td>\n",
       "      <td>90275.000000</td>\n",
       "      <td>16.0</td>\n",
       "      <td>90275.000000</td>\n",
       "      <td>90275.000000</td>\n",
       "      <td>658.0</td>\n",
       "      <td>...</td>\n",
       "      <td>95.000000</td>\n",
       "      <td>90275.000000</td>\n",
       "      <td>90275.000000</td>\n",
       "      <td>9.027500e+04</td>\n",
       "      <td>9.027500e+04</td>\n",
       "      <td>90275.0</td>\n",
       "      <td>9.027500e+04</td>\n",
       "      <td>90275.000000</td>\n",
       "      <td>1783.000000</td>\n",
       "      <td>9.027500e+04</td>\n",
       "    </tr>\n",
       "    <tr>\n",
       "      <th>mean</th>\n",
       "      <td>1.298466e+07</td>\n",
       "      <td>1.260271</td>\n",
       "      <td>7.229885</td>\n",
       "      <td>713.581395</td>\n",
       "      <td>2.279474</td>\n",
       "      <td>3.031869</td>\n",
       "      <td>4.0</td>\n",
       "      <td>5.565407</td>\n",
       "      <td>2.309216</td>\n",
       "      <td>66.0</td>\n",
       "      <td>...</td>\n",
       "      <td>311.694737</td>\n",
       "      <td>1968.419540</td>\n",
       "      <td>1.440739</td>\n",
       "      <td>1.798910e+05</td>\n",
       "      <td>4.576714e+05</td>\n",
       "      <td>2015.0</td>\n",
       "      <td>2.783344e+05</td>\n",
       "      <td>5983.975927</td>\n",
       "      <td>13.402692</td>\n",
       "      <td>6.049076e+13</td>\n",
       "    </tr>\n",
       "    <tr>\n",
       "      <th>std</th>\n",
       "      <td>2.504510e+06</td>\n",
       "      <td>1.721860</td>\n",
       "      <td>2.716196</td>\n",
       "      <td>437.434198</td>\n",
       "      <td>1.004271</td>\n",
       "      <td>1.156436</td>\n",
       "      <td>0.0</td>\n",
       "      <td>1.515046</td>\n",
       "      <td>0.969761</td>\n",
       "      <td>0.0</td>\n",
       "      <td>...</td>\n",
       "      <td>346.354850</td>\n",
       "      <td>23.695875</td>\n",
       "      <td>0.259909</td>\n",
       "      <td>2.087125e+05</td>\n",
       "      <td>5.548815e+05</td>\n",
       "      <td>0.0</td>\n",
       "      <td>4.004933e+05</td>\n",
       "      <td>6838.649682</td>\n",
       "      <td>2.715966</td>\n",
       "      <td>2.041793e+11</td>\n",
       "    </tr>\n",
       "    <tr>\n",
       "      <th>min</th>\n",
       "      <td>1.071174e+07</td>\n",
       "      <td>1.000000</td>\n",
       "      <td>2.000000</td>\n",
       "      <td>100.000000</td>\n",
       "      <td>0.000000</td>\n",
       "      <td>0.000000</td>\n",
       "      <td>4.0</td>\n",
       "      <td>1.000000</td>\n",
       "      <td>1.000000</td>\n",
       "      <td>66.0</td>\n",
       "      <td>...</td>\n",
       "      <td>18.000000</td>\n",
       "      <td>1885.000000</td>\n",
       "      <td>1.000000</td>\n",
       "      <td>1.000000e+02</td>\n",
       "      <td>2.200000e+01</td>\n",
       "      <td>2015.0</td>\n",
       "      <td>2.200000e+01</td>\n",
       "      <td>49.080000</td>\n",
       "      <td>6.000000</td>\n",
       "      <td>6.037101e+13</td>\n",
       "    </tr>\n",
       "    <tr>\n",
       "      <th>25%</th>\n",
       "      <td>1.155950e+07</td>\n",
       "      <td>1.000000</td>\n",
       "      <td>7.000000</td>\n",
       "      <td>407.500000</td>\n",
       "      <td>2.000000</td>\n",
       "      <td>2.000000</td>\n",
       "      <td>4.0</td>\n",
       "      <td>4.000000</td>\n",
       "      <td>2.000000</td>\n",
       "      <td>66.0</td>\n",
       "      <td>...</td>\n",
       "      <td>100.000000</td>\n",
       "      <td>1953.000000</td>\n",
       "      <td>1.440739</td>\n",
       "      <td>8.149000e+04</td>\n",
       "      <td>1.990235e+05</td>\n",
       "      <td>2015.0</td>\n",
       "      <td>8.222800e+04</td>\n",
       "      <td>2872.885000</td>\n",
       "      <td>13.000000</td>\n",
       "      <td>6.037400e+13</td>\n",
       "    </tr>\n",
       "    <tr>\n",
       "      <th>50%</th>\n",
       "      <td>1.254734e+07</td>\n",
       "      <td>1.000000</td>\n",
       "      <td>7.000000</td>\n",
       "      <td>616.000000</td>\n",
       "      <td>2.000000</td>\n",
       "      <td>3.000000</td>\n",
       "      <td>4.0</td>\n",
       "      <td>5.565407</td>\n",
       "      <td>2.000000</td>\n",
       "      <td>66.0</td>\n",
       "      <td>...</td>\n",
       "      <td>159.000000</td>\n",
       "      <td>1969.000000</td>\n",
       "      <td>1.440739</td>\n",
       "      <td>1.320000e+05</td>\n",
       "      <td>3.428720e+05</td>\n",
       "      <td>2015.0</td>\n",
       "      <td>1.929700e+05</td>\n",
       "      <td>4543.020000</td>\n",
       "      <td>14.000000</td>\n",
       "      <td>6.037620e+13</td>\n",
       "    </tr>\n",
       "    <tr>\n",
       "      <th>75%</th>\n",
       "      <td>1.422755e+07</td>\n",
       "      <td>1.000000</td>\n",
       "      <td>7.000000</td>\n",
       "      <td>872.000000</td>\n",
       "      <td>3.000000</td>\n",
       "      <td>4.000000</td>\n",
       "      <td>4.0</td>\n",
       "      <td>7.000000</td>\n",
       "      <td>3.000000</td>\n",
       "      <td>66.0</td>\n",
       "      <td>...</td>\n",
       "      <td>361.000000</td>\n",
       "      <td>1987.000000</td>\n",
       "      <td>1.440739</td>\n",
       "      <td>2.100425e+05</td>\n",
       "      <td>5.405890e+05</td>\n",
       "      <td>2015.0</td>\n",
       "      <td>3.454150e+05</td>\n",
       "      <td>6900.600000</td>\n",
       "      <td>15.000000</td>\n",
       "      <td>6.059042e+13</td>\n",
       "    </tr>\n",
       "    <tr>\n",
       "      <th>max</th>\n",
       "      <td>1.629608e+08</td>\n",
       "      <td>13.000000</td>\n",
       "      <td>21.000000</td>\n",
       "      <td>1555.000000</td>\n",
       "      <td>20.000000</td>\n",
       "      <td>16.000000</td>\n",
       "      <td>4.0</td>\n",
       "      <td>12.000000</td>\n",
       "      <td>20.000000</td>\n",
       "      <td>66.0</td>\n",
       "      <td>...</td>\n",
       "      <td>1366.000000</td>\n",
       "      <td>2015.000000</td>\n",
       "      <td>4.000000</td>\n",
       "      <td>9.948100e+06</td>\n",
       "      <td>2.775000e+07</td>\n",
       "      <td>2015.0</td>\n",
       "      <td>2.450000e+07</td>\n",
       "      <td>321936.090000</td>\n",
       "      <td>99.000000</td>\n",
       "      <td>6.111009e+13</td>\n",
       "    </tr>\n",
       "  </tbody>\n",
       "</table>\n",
       "<p>8 rows × 53 columns</p>\n",
       "</div>"
      ],
      "text/plain": [
       "           parcelid  airconditioningtypeid  architecturalstyletypeid  \\\n",
       "count  9.027500e+04           90275.000000                261.000000   \n",
       "mean   1.298466e+07               1.260271                  7.229885   \n",
       "std    2.504510e+06               1.721860                  2.716196   \n",
       "min    1.071174e+07               1.000000                  2.000000   \n",
       "25%    1.155950e+07               1.000000                  7.000000   \n",
       "50%    1.254734e+07               1.000000                  7.000000   \n",
       "75%    1.422755e+07               1.000000                  7.000000   \n",
       "max    1.629608e+08              13.000000                 21.000000   \n",
       "\n",
       "       basementsqft   bathroomcnt    bedroomcnt  buildingclasstypeid  \\\n",
       "count     43.000000  90275.000000  90275.000000                 16.0   \n",
       "mean     713.581395      2.279474      3.031869                  4.0   \n",
       "std      437.434198      1.004271      1.156436                  0.0   \n",
       "min      100.000000      0.000000      0.000000                  4.0   \n",
       "25%      407.500000      2.000000      2.000000                  4.0   \n",
       "50%      616.000000      2.000000      3.000000                  4.0   \n",
       "75%      872.000000      3.000000      4.000000                  4.0   \n",
       "max     1555.000000     20.000000     16.000000                  4.0   \n",
       "\n",
       "       buildingqualitytypeid  calculatedbathnbr  decktypeid  \\\n",
       "count           90275.000000       90275.000000       658.0   \n",
       "mean                5.565407           2.309216        66.0   \n",
       "std                 1.515046           0.969761         0.0   \n",
       "min                 1.000000           1.000000        66.0   \n",
       "25%                 4.000000           2.000000        66.0   \n",
       "50%                 5.565407           2.000000        66.0   \n",
       "75%                 7.000000           3.000000        66.0   \n",
       "max                12.000000          20.000000        66.0   \n",
       "\n",
       "              ...           yardbuildingsqft26     yearbuilt  numberofstories  \\\n",
       "count         ...                    95.000000  90275.000000     90275.000000   \n",
       "mean          ...                   311.694737   1968.419540         1.440739   \n",
       "std           ...                   346.354850     23.695875         0.259909   \n",
       "min           ...                    18.000000   1885.000000         1.000000   \n",
       "25%           ...                   100.000000   1953.000000         1.440739   \n",
       "50%           ...                   159.000000   1969.000000         1.440739   \n",
       "75%           ...                   361.000000   1987.000000         1.440739   \n",
       "max           ...                  1366.000000   2015.000000         4.000000   \n",
       "\n",
       "       structuretaxvaluedollarcnt  taxvaluedollarcnt  assessmentyear  \\\n",
       "count                9.027500e+04       9.027500e+04         90275.0   \n",
       "mean                 1.798910e+05       4.576714e+05          2015.0   \n",
       "std                  2.087125e+05       5.548815e+05             0.0   \n",
       "min                  1.000000e+02       2.200000e+01          2015.0   \n",
       "25%                  8.149000e+04       1.990235e+05          2015.0   \n",
       "50%                  1.320000e+05       3.428720e+05          2015.0   \n",
       "75%                  2.100425e+05       5.405890e+05          2015.0   \n",
       "max                  9.948100e+06       2.775000e+07          2015.0   \n",
       "\n",
       "       landtaxvaluedollarcnt      taxamount  taxdelinquencyyear  \\\n",
       "count           9.027500e+04   90275.000000         1783.000000   \n",
       "mean            2.783344e+05    5983.975927           13.402692   \n",
       "std             4.004933e+05    6838.649682            2.715966   \n",
       "min             2.200000e+01      49.080000            6.000000   \n",
       "25%             8.222800e+04    2872.885000           13.000000   \n",
       "50%             1.929700e+05    4543.020000           14.000000   \n",
       "75%             3.454150e+05    6900.600000           15.000000   \n",
       "max             2.450000e+07  321936.090000           99.000000   \n",
       "\n",
       "       censustractandblock  \n",
       "count         9.027500e+04  \n",
       "mean          6.049076e+13  \n",
       "std           2.041793e+11  \n",
       "min           6.037101e+13  \n",
       "25%           6.037400e+13  \n",
       "50%           6.037620e+13  \n",
       "75%           6.059042e+13  \n",
       "max           6.111009e+13  \n",
       "\n",
       "[8 rows x 53 columns]"
      ]
     },
     "execution_count": 21,
     "metadata": {},
     "output_type": "execute_result"
    }
   ],
   "source": [
    "raw_train_df.describe()"
   ]
  },
  {
   "cell_type": "code",
   "execution_count": 22,
   "metadata": {
    "collapsed": false
   },
   "outputs": [
    {
     "name": "stdout",
     "output_type": "stream",
     "text": [
      "parcelid 90150\n",
      "airconditioningtypeid 6\n",
      "architecturalstyletypeid 7\n",
      "basementsqft 40\n",
      "bathroomcnt 23\n",
      "bedroomcnt 17\n",
      "buildingclasstypeid 2\n",
      "buildingqualitytypeid 9\n",
      "calculatedbathnbr 23\n",
      "decktypeid 2\n",
      "finishedfloor1squarefeet 1887\n",
      "calculatedfinishedsquarefeet 5103\n",
      "finishedsquarefeet12 4983\n",
      "finishedsquarefeet13 12\n",
      "finishedsquarefeet15 1916\n",
      "finishedsquarefeet50 1899\n",
      "finishedsquarefeet6 361\n",
      "fips 3\n",
      "fireplacecnt 6\n",
      "fullbathcnt 15\n",
      "garagecarcnt 15\n",
      "garagetotalsqft 870\n",
      "hashottuborspa 2\n",
      "heatingorsystemtypeid 12\n",
      "latitude 73312\n",
      "longitude 71900\n",
      "lotsizesquarefeet 20016\n",
      "poolcnt 1\n",
      "poolsizesum 274\n",
      "pooltypeid10 2\n",
      "pooltypeid2 2\n",
      "pooltypeid7 1\n",
      "propertycountylandusecode 78\n",
      "propertylandusetypeid 14\n",
      "propertyzoningdesc 1997\n",
      "rawcensustractandblock 42647\n",
      "regionidcity 177\n",
      "regionidcounty 3\n",
      "regionidneighborhood 494\n",
      "regionidzip 388\n",
      "roomcnt 17\n",
      "storytypeid 2\n",
      "threequarterbathnbr 5\n",
      "typeconstructiontypeid 4\n",
      "unitcnt 10\n",
      "yardbuildingsqft17 568\n",
      "yardbuildingsqft26 74\n",
      "yearbuilt 130\n",
      "numberofstories 5\n",
      "fireplaceflag 2\n",
      "structuretaxvaluedollarcnt 55450\n",
      "taxvaluedollarcnt 55938\n",
      "assessmentyear 1\n",
      "landtaxvaluedollarcnt 57067\n",
      "taxamount 85111\n",
      "taxdelinquencyflag 2\n",
      "taxdelinquencyyear 12\n",
      "censustractandblock 42398\n"
     ]
    }
   ],
   "source": [
    "for col in raw_train_df.columns:\n",
    "    print(col, raw_train_df[col].nunique(dropna = False))"
   ]
  },
  {
   "cell_type": "code",
   "execution_count": null,
   "metadata": {
    "collapsed": false
   },
   "outputs": [],
   "source": []
  },
  {
   "cell_type": "code",
   "execution_count": null,
   "metadata": {
    "collapsed": true
   },
   "outputs": [],
   "source": []
  }
 ],
 "metadata": {
  "kernelspec": {
   "display_name": "Python 3",
   "language": "python",
   "name": "python3"
  },
  "language_info": {
   "codemirror_mode": {
    "name": "ipython",
    "version": 3
   },
   "file_extension": ".py",
   "mimetype": "text/x-python",
   "name": "python",
   "nbconvert_exporter": "python",
   "pygments_lexer": "ipython3",
   "version": "3.5.2"
  }
 },
 "nbformat": 4,
 "nbformat_minor": 1
}
